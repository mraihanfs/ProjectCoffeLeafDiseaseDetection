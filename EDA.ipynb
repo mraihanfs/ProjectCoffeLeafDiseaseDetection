{
 "cells": [
  {
   "cell_type": "code",
   "execution_count": 1,
   "metadata": {
    "id": "HLBqwOLCoSxT"
   },
   "outputs": [
    {
     "ename": "ModuleNotFoundError",
     "evalue": "No module named 'google.colab'",
     "output_type": "error",
     "traceback": [
      "\u001b[1;31m---------------------------------------------------------------------------\u001b[0m",
      "\u001b[1;31mModuleNotFoundError\u001b[0m                       Traceback (most recent call last)",
      "\u001b[1;32m<ipython-input-1-d5df0069828e>\u001b[0m in \u001b[0;36m<module>\u001b[1;34m\u001b[0m\n\u001b[1;32m----> 1\u001b[1;33m \u001b[1;32mfrom\u001b[0m \u001b[0mgoogle\u001b[0m\u001b[1;33m.\u001b[0m\u001b[0mcolab\u001b[0m \u001b[1;32mimport\u001b[0m \u001b[0mdrive\u001b[0m\u001b[1;33m\u001b[0m\u001b[1;33m\u001b[0m\u001b[0m\n\u001b[0m\u001b[0;32m      2\u001b[0m \u001b[0mdrive\u001b[0m\u001b[1;33m.\u001b[0m\u001b[0mmount\u001b[0m\u001b[1;33m(\u001b[0m\u001b[1;34m'/content/drive'\u001b[0m\u001b[1;33m)\u001b[0m\u001b[1;33m\u001b[0m\u001b[1;33m\u001b[0m\u001b[0m\n",
      "\u001b[1;31mModuleNotFoundError\u001b[0m: No module named 'google.colab'"
     ]
    }
   ],
   "source": [
    "from google.colab import drive\n",
    "drive.mount('/content/drive')"
   ]
  },
  {
   "cell_type": "code",
   "execution_count": null,
   "metadata": {
    "id": "IGR3o3dXsOby"
   },
   "outputs": [],
   "source": [
    "import zipfile, os\n",
    "zip_dir = '/content/drive/MyDrive/Kampus/Machine Learning/c5yvn32dzg-2.zip'\n",
    "zip = zipfile.ZipFile(zip_dir,'r')\n",
    "zip.extractall('/content/drive/MyDrive/Kampus/Machine Learning/dataset')\n",
    "zip.close()"
   ]
  },
  {
   "cell_type": "code",
   "execution_count": 3,
   "metadata": {},
   "outputs": [
    {
     "name": "stdout",
     "output_type": "stream",
     "text": [
      "['/device:CPU:0']\n"
     ]
    }
   ],
   "source": [
    "from tensorflow.python.client import device_lib\n",
    "def get_available_devices():\n",
    "    local_device_protos = device_lib.list_local_devices()\n",
    "    return [x.name for x in local_device_protos]\n",
    "print(get_available_devices()) "
   ]
  },
  {
   "cell_type": "code",
   "execution_count": 2,
   "metadata": {
    "id": "vEl9RTd2oynQ"
   },
   "outputs": [
    {
     "name": "stdout",
     "output_type": "stream",
     "text": [
      "Num GPUs Available:  0\n"
     ]
    }
   ],
   "source": [
    "import pandas as pd \n",
    "import os\n",
    "import tensorflow as tf\n",
    "print(\"Num GPUs Available: \", len(tf.config.list_physical_devices('GPU')))\n",
    "# os.mkdir('/content/drive/MyDrive/Kampus/Machine Learning/dataset')\n",
    "# os.mkdir('/content/drive/MyDrive/Kampus/Machine Learning/dataset/coffeRust')\n",
    "# os.mkdir('/content/drive/MyDrive/Kampus/Machine Learning/dataset/coffeRust/healthy')\n",
    "# os.mkdir('/content/drive/MyDrive/Kampus/Machine Learning/dataset/coffeRust/unhealthy(rust)')"
   ]
  },
  {
   "cell_type": "code",
   "execution_count": null,
   "metadata": {
    "id": "POtFJmiSo6NV"
   },
   "outputs": [],
   "source": [
    "df = pd.read_excel('/content/drive/MyDrive/Kampus/Machine Learning/dataset/Annotations/RoCoLe-classes.xlsx')"
   ]
  },
  {
   "cell_type": "code",
   "execution_count": null,
   "metadata": {
    "id": "0XP39jELpbTV"
   },
   "outputs": [],
   "source": [
    "df.drop(columns='Binary.Label', inplace=True)\n",
    "df\n"
   ]
  },
  {
   "cell_type": "code",
   "execution_count": null,
   "metadata": {
    "id": "WnNtHupcprbi"
   },
   "outputs": [],
   "source": [
    "# datasetDir = '/content/drive/MyDrive/Kampus/Machine Learning/dataset/'\n",
    "# # print(os.path.join(datasetDir,'Photos',i[0])\n",
    "# # print(os.path.join(datasetDir,'coffeRust','healthy',\n",
    "# # print(os.path.join(datasetDir,'Photos',i[0])\n",
    "# # print(os.path.join(datasetDir,'coffeRust','unhealthy(rust)'\n",
    "# for i in df.values:\n",
    "#   if i[1] == 'healthy':\n",
    "#     os.replace(os.path.join(datasetDir,'Photos',i[0]), \n",
    "#                os.path.join(datasetDir,'coffeRust','healthy',i[0]))\n",
    "#     print('healthy data moved succesed')\n",
    "#   elif \"rust\" in i[1]:\n",
    "#     os.replace(os.path.join(datasetDir,'Photos',i[0]), \n",
    "#                os.path.join(datasetDir,'coffeRust','unhealthy(rust)',i[0]))\n",
    "#     print('rust data moved succesed')"
   ]
  },
  {
   "cell_type": "code",
   "execution_count": 4,
   "metadata": {
    "id": "kxG8sS_lrfRh"
   },
   "outputs": [
    {
     "name": "stdout",
     "output_type": "stream",
     "text": [
      "791\n",
      "602\n"
     ]
    }
   ],
   "source": [
    "datasetDir = 'G:/My Drive/Kampus/Machine Learning/dataset'\n",
    "dataset_dir = os.path.join(datasetDir,'coffeRust')\n",
    "healthy = os.listdir(os.path.join(datasetDir,'coffeRust','healthy'))\n",
    "unhealthy = os.listdir(os.path.join(datasetDir,'coffeRust','unhealthy(rust)'))\n",
    "print (len(healthy))\n",
    "print (len(unhealthy))"
   ]
  },
  {
   "cell_type": "code",
   "execution_count": 5,
   "metadata": {
    "id": "NirtEYC45cgE"
   },
   "outputs": [],
   "source": [
    "import keras_preprocessing\n",
    "from keras_preprocessing import image\n",
    "from keras_preprocessing.image import ImageDataGenerator\n",
    "dataset_datagen = ImageDataGenerator(\n",
    "      rescale = 1./255,\n",
    "\t  rotation_range=40,\n",
    "      width_shift_range=0.2,\n",
    "      height_shift_range=0.2,\n",
    "      shear_range=0.2,\n",
    "      zoom_range=0.2,\n",
    "      horizontal_flip=True,\n",
    "      fill_mode='nearest',\n",
    "      validation_split=0.2\n",
    "      )\n",
    "\n"
   ]
  },
  {
   "cell_type": "code",
   "execution_count": 6,
   "metadata": {
    "id": "UvUdfD5Evp4I"
   },
   "outputs": [
    {
     "name": "stdout",
     "output_type": "stream",
     "text": [
      "Found 1393 files belonging to 2 classes.\n",
      "Using 1115 files for training.\n",
      "Found 1393 files belonging to 2 classes.\n",
      "Using 278 files for validation.\n"
     ]
    }
   ],
   "source": [
    "# train_ds = dataset_datagen.flow_from_directory(\n",
    "#     dataset_dir,\n",
    "#     target_size= (150,150),\n",
    "#     class_mode= 'binary',\n",
    "#     subset= ('training'),\n",
    "#     batch_size= 16\n",
    "# )\n",
    "\n",
    "# val_ds = dataset_datagen.flow_from_directory(\n",
    "#     dataset_dir,\n",
    "#     target_size= (150,150),\n",
    "#     class_mode= 'binary',\n",
    "#     subset= ('validation'),\n",
    "#     batch_size= 16\n",
    "# )\n",
    "import keras\n",
    "train_ds = tf.keras.preprocessing.image_dataset_from_directory(\n",
    "    dataset_dir,\n",
    "    image_size=(150,150),\n",
    "    seed=123,\n",
    "    validation_split=0.2,\n",
    "    subset= 'training'\n",
    ")\n",
    "val_ds = tf.keras.preprocessing.image_dataset_from_directory(\n",
    "    dataset_dir,\n",
    "    image_size=(150,150),\n",
    "    seed=123,\n",
    "    validation_split=0.2,\n",
    "    subset= 'validation'\n",
    ")"
   ]
  },
  {
   "cell_type": "code",
   "execution_count": 10,
   "metadata": {
    "id": "eu-DvMCY2jC4"
   },
   "outputs": [],
   "source": [
    "model = tf.keras.Sequential([\n",
    "  keras.layers.Rescaling(1./255),\n",
    "  tf.keras.layers.Conv2D(128, (3,3), activation='relu', input_shape=(150, 150, 3)),\n",
    "  tf.keras.layers.Conv2D(64, 3, activation='relu'),\n",
    "  tf.keras.layers.MaxPooling2D(),\n",
    "  tf.keras.layers.Conv2D(32, 3, activation='relu'),\n",
    "  tf.keras.layers.MaxPooling2D(),\n",
    "  tf.keras.layers.Conv2D(16, 3, activation='relu'),\n",
    "  tf.keras.layers.MaxPooling2D(),\n",
    "  tf.keras.layers.Flatten(),\n",
    "  tf.keras.layers.Dropout(0.55),\n",
    "  tf.keras.layers.Dense(128, activation='relu'),\n",
    "  tf.keras.layers.Dense(1, activation='sigmoid')\n",
    "])"
   ]
  },
  {
   "cell_type": "code",
   "execution_count": 12,
   "metadata": {
    "id": "YQ610PxA5wt_"
   },
   "outputs": [],
   "source": [
    "model.compile(\n",
    "  optimizer='adam',\n",
    "  loss='binary_crossentropy',\n",
    "  metrics=['accuracy', 'AUC'])\n"
   ]
  },
  {
   "cell_type": "code",
   "execution_count": null,
   "metadata": {
    "id": "z_YDtSI06Hra"
   },
   "outputs": [
    {
     "name": "stdout",
     "output_type": "stream",
     "text": [
      "Epoch 1/100\n",
      "35/35 [==============================] - 2020s 51s/step - loss: 0.6941 - accuracy: 0.5578 - auc: 0.4869 - val_loss: 0.6846 - val_accuracy: 0.5791 - val_auc: 0.5885\n",
      "Epoch 2/100\n",
      "35/35 [==============================] - 935s 26s/step - loss: 0.6822 - accuracy: 0.5650 - auc: 0.5354 - val_loss: 0.6762 - val_accuracy: 0.5791 - val_auc: 0.5957\n",
      "Epoch 3/100\n",
      "35/35 [==============================] - 885s 23s/step - loss: 0.6735 - accuracy: 0.5641 - auc: 0.5878 - val_loss: 0.6709 - val_accuracy: 0.6223 - val_auc: 0.6201\n",
      "Epoch 4/100\n",
      "35/35 [==============================] - 725s 17s/step - loss: 0.6681 - accuracy: 0.5713 - auc: 0.5958 - val_loss: 0.6574 - val_accuracy: 0.5863 - val_auc: 0.6391\n",
      "Epoch 5/100\n",
      "35/35 [==============================] - 665s 17s/step - loss: 0.6649 - accuracy: 0.6072 - auc: 0.6341 - val_loss: 0.6709 - val_accuracy: 0.5935 - val_auc: 0.6446\n",
      "Epoch 6/100\n",
      "35/35 [==============================] - 410s 11s/step - loss: 0.6402 - accuracy: 0.6197 - auc: 0.6703 - val_loss: 0.6496 - val_accuracy: 0.6151 - val_auc: 0.6545\n",
      "Epoch 7/100\n",
      "35/35 [==============================] - 433s 11s/step - loss: 0.6246 - accuracy: 0.6529 - auc: 0.7066 - val_loss: 0.6192 - val_accuracy: 0.6655 - val_auc: 0.7035\n",
      "Epoch 8/100\n",
      "35/35 [==============================] - 369s 9s/step - loss: 0.6109 - accuracy: 0.6780 - auc: 0.7252 - val_loss: 0.6430 - val_accuracy: 0.6583 - val_auc: 0.6976\n",
      "Epoch 9/100\n",
      "35/35 [==============================] - 353s 10s/step - loss: 0.5914 - accuracy: 0.6996 - auc: 0.7443 - val_loss: 0.6308 - val_accuracy: 0.6295 - val_auc: 0.6827\n",
      "Epoch 10/100\n",
      "35/35 [==============================] - 354s 10s/step - loss: 0.5646 - accuracy: 0.7076 - auc: 0.7744 - val_loss: 0.6387 - val_accuracy: 0.6439 - val_auc: 0.6992\n",
      "Epoch 11/100\n",
      "35/35 [==============================] - 351s 9s/step - loss: 0.5380 - accuracy: 0.7300 - auc: 0.8010 - val_loss: 0.6219 - val_accuracy: 0.6547 - val_auc: 0.7100\n",
      "Epoch 12/100\n",
      "35/35 [==============================] - 391s 10s/step - loss: 0.4918 - accuracy: 0.7552 - auc: 0.8377 - val_loss: 0.6401 - val_accuracy: 0.6475 - val_auc: 0.6885\n",
      "Epoch 13/100\n",
      "35/35 [==============================] - 360s 10s/step - loss: 0.4602 - accuracy: 0.7830 - auc: 0.8618 - val_loss: 0.6823 - val_accuracy: 0.6619 - val_auc: 0.6748\n",
      "Epoch 14/100\n",
      "35/35 [==============================] - 291s 8s/step - loss: 0.4309 - accuracy: 0.7955 - auc: 0.8792 - val_loss: 0.6806 - val_accuracy: 0.6583 - val_auc: 0.6915\n",
      "Epoch 15/100\n",
      "35/35 [==============================] - 288s 8s/step - loss: 0.3634 - accuracy: 0.8332 - auc: 0.9163 - val_loss: 0.7311 - val_accuracy: 0.6439 - val_auc: 0.6590\n",
      "Epoch 16/100\n",
      "35/35 [==============================] - 271s 8s/step - loss: 0.3071 - accuracy: 0.8700 - auc: 0.9414 - val_loss: 0.7431 - val_accuracy: 0.6043 - val_auc: 0.6290\n",
      "Epoch 17/100\n",
      "35/35 [==============================] - 279s 8s/step - loss: 0.2738 - accuracy: 0.8915 - auc: 0.9538 - val_loss: 0.8487 - val_accuracy: 0.6619 - val_auc: 0.6425\n",
      "Epoch 18/100\n",
      "35/35 [==============================] - 268s 8s/step - loss: 0.2313 - accuracy: 0.9004 - auc: 0.9673 - val_loss: 0.8175 - val_accuracy: 0.6331 - val_auc: 0.6516\n",
      "Epoch 19/100\n",
      "35/35 [==============================] - 265s 8s/step - loss: 0.2076 - accuracy: 0.9283 - auc: 0.9734 - val_loss: 1.0895 - val_accuracy: 0.6259 - val_auc: 0.6178\n",
      "Epoch 20/100\n",
      "35/35 [==============================] - 265s 8s/step - loss: 0.1680 - accuracy: 0.9372 - auc: 0.9840 - val_loss: 1.1788 - val_accuracy: 0.6475 - val_auc: 0.6442\n",
      "Epoch 21/100\n",
      "35/35 [==============================] - 282s 8s/step - loss: 0.1664 - accuracy: 0.9408 - auc: 0.9820 - val_loss: 1.0171 - val_accuracy: 0.6475 - val_auc: 0.6418\n",
      "Epoch 22/100\n",
      "35/35 [==============================] - 272s 8s/step - loss: 0.0937 - accuracy: 0.9668 - auc: 0.9946 - val_loss: 1.1151 - val_accuracy: 0.6547 - val_auc: 0.6765\n",
      "Epoch 23/100\n",
      "35/35 [==============================] - 264s 8s/step - loss: 0.1207 - accuracy: 0.9587 - auc: 0.9899 - val_loss: 1.0347 - val_accuracy: 0.6115 - val_auc: 0.6385\n",
      "Epoch 24/100\n",
      "35/35 [==============================] - 270s 8s/step - loss: 0.0891 - accuracy: 0.9767 - auc: 0.9932 - val_loss: 0.9819 - val_accuracy: 0.6619 - val_auc: 0.6818\n",
      "Epoch 25/100\n",
      "35/35 [==============================] - 263s 7s/step - loss: 0.0557 - accuracy: 0.9883 - auc: 0.9982 - val_loss: 1.2376 - val_accuracy: 0.6763 - val_auc: 0.6761\n",
      "Epoch 26/100\n",
      "35/35 [==============================] - 312s 9s/step - loss: 0.0706 - accuracy: 0.9794 - auc: 0.9957 - val_loss: 1.3149 - val_accuracy: 0.6655 - val_auc: 0.6704\n",
      "Epoch 27/100\n",
      "35/35 [==============================] - 293s 8s/step - loss: 0.0677 - accuracy: 0.9758 - auc: 0.9970 - val_loss: 1.3591 - val_accuracy: 0.5971 - val_auc: 0.6561\n",
      "Epoch 28/100\n",
      " 1/35 [..............................] - ETA: 5:38 - loss: 0.0955 - accuracy: 0.9688 - auc: 1.0000"
     ]
    }
   ],
   "source": [
    "model.fit(\n",
    "  train_ds,\n",
    "  validation_data=val_ds,\n",
    "  epochs=100, \n",
    "  verbose= 1\n",
    ")\n"
   ]
  },
  {
   "cell_type": "code",
   "execution_count": null,
   "metadata": {
    "id": "AfYVx4L34dUG"
   },
   "outputs": [],
   "source": []
  }
 ],
 "metadata": {
  "accelerator": "GPU",
  "colab": {
   "name": "EDA",
   "private_outputs": true,
   "provenance": []
  },
  "kernelspec": {
   "display_name": "Python 3",
   "language": "python",
   "name": "python3"
  },
  "language_info": {
   "codemirror_mode": {
    "name": "ipython",
    "version": 3
   },
   "file_extension": ".py",
   "mimetype": "text/x-python",
   "name": "python",
   "nbconvert_exporter": "python",
   "pygments_lexer": "ipython3",
   "version": "3.7.8"
  }
 },
 "nbformat": 4,
 "nbformat_minor": 1
}
